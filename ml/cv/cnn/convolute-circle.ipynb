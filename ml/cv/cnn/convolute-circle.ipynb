{
 "cells": [
  {
   "cell_type": "code",
   "execution_count": 23,
   "metadata": {},
   "outputs": [
    {
     "name": "stdout",
     "output_type": "stream",
     "text": [
      "(81, 81) 1.0\n",
      "(83, 83)\n"
     ]
    }
   ],
   "source": [
    "import numpy as np\n",
    "from PIL import Image\n",
    "from scipy import signal\n",
    "\n",
    "kernel = np.array([[0, 1, 0], [1, -4, 1], [0, 1, 0]])\n",
    "img = Image.open(\"circle1.png\").convert(\"L\")\n",
    "img = np.asarray(img)\n",
    "img = img / 255.\n",
    "\n",
    "dst = signal.convolve2d(img, kernel)\n",
    "Image.fromarray((dst * 255.).astype(np.uint8)).save(\"circle2.png\")"
   ]
  },
  {
   "cell_type": "code",
   "execution_count": null,
   "metadata": {},
   "outputs": [],
   "source": []
  }
 ],
 "metadata": {
  "kernelspec": {
   "display_name": "Python 3",
   "language": "python",
   "name": "python3"
  },
  "language_info": {
   "codemirror_mode": {
    "name": "ipython",
    "version": 3
   },
   "file_extension": ".py",
   "mimetype": "text/x-python",
   "name": "python",
   "nbconvert_exporter": "python",
   "pygments_lexer": "ipython3",
   "version": "3.5.2"
  }
 },
 "nbformat": 4,
 "nbformat_minor": 2
}
