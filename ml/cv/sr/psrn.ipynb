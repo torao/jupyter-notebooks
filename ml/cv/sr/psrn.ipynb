{
 "cells": [
  {
   "cell_type": "code",
   "execution_count": 7,
   "metadata": {},
   "outputs": [
    {
     "name": "stdout",
     "output_type": "stream",
     "text": [
      "00 PSNR: -21.168058dB\n",
      "50 PSNR: -15.820891dB\n",
      "80 PSNR: -8.907227dB\n"
     ]
    }
   ],
   "source": [
    "from IPython.display import Image, display_png\n",
    "from keras.preprocessing.image import load_img, array_to_img, img_to_array\n",
    "import numpy as np\n",
    "\n",
    "def psnr(x1, x2):\n",
    "  return -10 * np.log(np.mean((x1 - x2).flatten() ** 2)) / np.log(10)\n",
    "\n",
    "original = img_to_array(load_img(\"kawasemi_psnr99.png\"))\n",
    "deg00 = img_to_array(load_img(\"kawasemi_psnr00.jpg\"))\n",
    "deg50 = img_to_array(load_img(\"kawasemi_psnr50.jpg\"))\n",
    "deg80 = img_to_array(load_img(\"kawasemi_psnr80.jpg\"))\n",
    "print(\"00 PSNR: %fdB\" % psnr(original, deg00))\n",
    "print(\"50 PSNR: %fdB\" % psnr(original, deg50))\n",
    "print(\"80 PSNR: %fdB\" % psnr(original, deg80))\n"
   ]
  }
 ],
 "metadata": {
  "kernelspec": {
   "display_name": "Python 3",
   "language": "python",
   "name": "python3"
  },
  "language_info": {
   "codemirror_mode": {
    "name": "ipython",
    "version": 3
   },
   "file_extension": ".py",
   "mimetype": "text/x-python",
   "name": "python",
   "nbconvert_exporter": "python",
   "pygments_lexer": "ipython3",
   "version": "3.5.2"
  }
 },
 "nbformat": 4,
 "nbformat_minor": 2
}
